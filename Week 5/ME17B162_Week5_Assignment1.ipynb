{
 "cells": [
  {
   "cell_type": "markdown",
   "metadata": {},
   "source": [
    "# Saarthak Marathe | ME17B162 \n",
    "# Classification : Nearest Neighbors and Naive Bayes "
   ]
  },
  {
   "cell_type": "markdown",
   "metadata": {},
   "source": [
    "## Classification using Nearest Neighbors"
   ]
  },
  {
   "cell_type": "markdown",
   "metadata": {},
   "source": [
    "(a) Perform k-Nearest neighbours on the given dataset($X_{knn}$ and $y_{knn}$: where $X_{knn}$ stores feature vectors representing the movies and  $y_{knn}$ stores the 0-1 labelling for each movie) for binary classification of movies, for classifiying whether a given movie is a comedy(label 1) or not a comedy(label 0) . Split the dataset into train(80%), validation(10%) and test sets(10%).Run k-Nearest neighbours for different k values (1,3,7,15,31,63). Select the k, using validation set, which returns the best accuracy score. \n",
    "\n",
    "(i)  Report all the validation accuracies for all the values of k. \n",
    "<br>(ii) Report accuracy score by performing k-NN on the test dataset using the best chosen k value. "
   ]
  },
  {
   "cell_type": "code",
   "execution_count": 2,
   "metadata": {},
   "outputs": [],
   "source": [
    "## write your code here.\n",
    "import pandas as pd\n",
    "x_knn = pd.read_csv('X_knn.csv', header = None)\n",
    "y_knn = pd.read_csv('y_knn.csv', header = None)"
   ]
  },
  {
   "cell_type": "code",
   "execution_count": 30,
   "metadata": {},
   "outputs": [],
   "source": [
    "x = [0]*len(x_knn)\n",
    "for i in range(len(x_knn)):\n",
    "    x[i] = [float(x) for x in x_knn[0][i].split()] "
   ]
  },
  {
   "cell_type": "code",
   "execution_count": 34,
   "metadata": {},
   "outputs": [],
   "source": [
    "y = [0]*len(y_knn)\n",
    "for i in range(len(x_knn)):\n",
    "    y[i] = y_knn[0][i]"
   ]
  },
  {
   "cell_type": "code",
   "execution_count": 35,
   "metadata": {},
   "outputs": [],
   "source": [
    "from sklearn.model_selection import train_test_split\n",
    "x1, x_test, y1, y_test = train_test_split(x, y, test_size=0.10)\n",
    "x_train, x_val, y_train, y_val = train_test_split(x1, y1, test_size=0.111)"
   ]
  },
  {
   "cell_type": "code",
   "execution_count": 36,
   "metadata": {},
   "outputs": [],
   "source": [
    "from sklearn.preprocessing import StandardScaler\n",
    "scaler = StandardScaler()\n",
    "scaler.fit(x_train)\n",
    "\n",
    "x_train = scaler.transform(x_train)\n",
    "x_val = scaler.transform(x_val)\n",
    "x_test = scaler.transform(x_test)"
   ]
  },
  {
   "cell_type": "code",
   "execution_count": 39,
   "metadata": {},
   "outputs": [
    {
     "data": {
      "text/plain": [
       "[<matplotlib.lines.Line2D at 0x1eb8d48bd90>]"
      ]
     },
     "execution_count": 39,
     "metadata": {},
     "output_type": "execute_result"
    },
    {
     "data": {
      "image/png": "[encoded data removed]",
      "text/plain": [
       "<Figure size 432x288 with 1 Axes>"
      ]
     },
     "metadata": {
      "needs_background": "light"
     },
     "output_type": "display_data"
    }
   ],
   "source": [
    "from sklearn.neighbors import KNeighborsClassifier\n",
    "import matplotlib.pyplot as plt\n",
    "import numpy as np\n",
    "k = [1,3,7,15,31,63]\n",
    "error = []\n",
    "for i in range(len(k)):\n",
    "    classifier = KNeighborsClassifier(n_neighbors=k[i])\n",
    "    classifier.fit(x_train, y_train)\n",
    "    y_pred = classifier.predict(x_val)\n",
    "    error.append(np.mean(y_pred != y_val))\n",
    "plt.plot(k, error)"
   ]
  },
  {
   "cell_type": "code",
   "execution_count": 41,
   "metadata": {},
   "outputs": [
    {
     "name": "stdout",
     "output_type": "stream",
     "text": [
      "k: 1.000000, Error: 0.185185\n",
      "k: 3.000000, Error: 0.150150\n",
      "k: 7.000000, Error: 0.127127\n",
      "k: 15.000000, Error: 0.143143\n",
      "k: 31.000000, Error: 0.157157\n",
      "k: 63.000000, Error: 0.157157\n"
     ]
    }
   ],
   "source": [
    "for i in range(len(k)):\n",
    "    print('k: %f, Error: %f' %(k[i], error[i]))"
   ]
  },
  {
   "cell_type": "markdown",
   "metadata": {},
   "source": [
    "**Write the results here**\n",
    "\n",
    "From the graph, it is evident that the highest accuracy (lowest error) is for k = 7"
   ]
  },
  {
   "cell_type": "code",
   "execution_count": 149,
   "metadata": {},
   "outputs": [
    {
     "name": "stdout",
     "output_type": "stream",
     "text": [
      "Accuracy for the test data: 0.8109999999999999\n"
     ]
    }
   ],
   "source": [
    "#for test dataset\n",
    "classifier = KNeighborsClassifier(n_neighbors=7)\n",
    "classifier.fit(x_train, y_train)\n",
    "y_pred = classifier.predict(x_test)\n",
    "error = (np.mean(y_pred != y_test))\n",
    "print('Accuracy for the test data:', 1-error)"
   ]
  },
  {
   "cell_type": "markdown",
   "metadata": {},
   "source": [
    "**(b) State why using an even value of k in k-NN should not be chosen**\n",
    "\n",
    "Odd values for k are chosen mainly to avoid any ties with class label scores (distance) during cluster classification"
   ]
  },
  {
   "cell_type": "markdown",
   "metadata": {},
   "source": [
    "## Learning Naive Bayes' classifier  "
   ]
  },
  {
   "cell_type": "markdown",
   "metadata": {},
   "source": [
    "### From Continuous Distribution of data"
   ]
  },
  {
   "cell_type": "markdown",
   "metadata": {},
   "source": [
    "Here, the distribution of the data( $X$ represents the datapoints and $Y$ represents the 0-1 binary-class label; where 0 being the negative class and 1 being the positive class) is already known.\n",
    "<br>Consider the following one-dimensional(1-D) Gaussian distributions where means and variances are unknown. You need to estimate means($\\mu_-$: for negative class and  $\\mu_+$: for positive class) and variances ($\\sigma^{2}_{-}$: for negative class and $\\sigma^{2}_+$: for positive class) from the given data : \n",
    "<br> (1) Assume $X|Y_{Y=0} \\sim \\mathcal{N}(\\mu_- , \\sigma^{2}_-)$ \n",
    "<br>(2) Assume $X|Y_{Y=1} \\sim \\mathcal{N}(\\mu_+ , \\sigma^{2}_+)$\n"
   ]
  },
  {
   "cell_type": "markdown",
   "metadata": {},
   "source": [
    "*Generating artificial datasets in the next cell *"
   ]
  },
  {
   "cell_type": "code",
   "execution_count": 42,
   "metadata": {},
   "outputs": [],
   "source": [
    "## This cell is for generating datasets. Students should not change anything in this cell. \n",
    "## You can compare your mean and variance estimates by the actual ones used to generate these datasets\n",
    "\n",
    "import numpy as np\n",
    "X_pos = np.random.randn(1000,1)+np.array([[2.]])\n",
    "X_neg = np.random.randn(1000,1)+np.array([[4.]])\n",
    "X_train_pos = X_pos[:900]\n",
    "X_train_neg = X_neg[:900]\n",
    "X_test_pos = X_pos[900:]\n",
    "X_test_neg = X_neg[900:]\n",
    "X_train = np.concatenate((X_train_pos, X_train_neg), axis=0)\n",
    "X_test = np.concatenate((X_test_pos, X_test_neg), axis=0)\n",
    "Y_train = np.concatenate(( np.ones(900),np.zeros(900) ))\n",
    "Y_test = np.concatenate(( np.ones(100), np.zeros(100) ))\n",
    "\n",
    "## X_train, X_test, Y_train, Y_test are your datasets to work with ####"
   ]
  },
  {
   "cell_type": "markdown",
   "metadata": {},
   "source": [
    "\n",
    "\n",
    "<br>**Instructions to follow for learning a Baeysian classifier:** *(Code the formulae for estimating the different parameters yourself)*\n",
    "<br> a)Utilize the training dataset to estimate the means($\\hat{\\mu_+}$,$\\hat{\\mu_-}$) and variances($\\hat{\\sigma^{2}_+}$, $\\hat{\\sigma^{2}_-}$) for both positive and negative classes  \n",
    "b)Estimate the prior probability: $P(Y=1)$  ⟶ which could be referred to as: $\\hat{a}$ \n",
    "<br>c)Estimate the classifier funtion/posterior probability:  $P(Y=1|X = x)$  ⟶ which could be referred to as $\\hat{\\eta(x)}$\n",
    "<br>d)Find out the threshold value($x^*$) for classification by equating the estimated classifier function($\\hat{\\eta(x)}$)  with threshold probability of 0.5\n",
    "<br>e)Classify the test dataset into the two classes using this threshold value($x^*$) and find out the **accuracy** of the prediction \n",
    "\n",
    "Return back:  $\\hat{\\mu_+}$, $\\hat{\\mu_-}$, $\\hat{\\sigma^{2}_+}$, $\\hat{\\sigma^{2}_-}$, $\\hat{a}$, $x^*$ and accuracy from the code written \n",
    "\n",
    "*Hint: $X|Y_{Y=0} \\sim \\mathcal{N}(\\mu_- , \\sigma^{2}_-)$ implies $P_{X|Y=0} = \\mathcal{N}(\\mu_- , \\sigma^{2}_-) $*\n"
   ]
  },
  {
   "cell_type": "code",
   "execution_count": 95,
   "metadata": {},
   "outputs": [],
   "source": [
    "## write your code here.  \n",
    "\n",
    "#mean and variance for both the datas\n",
    "def mean(x):\n",
    "    sum = 0\n",
    "    for i in range(len(x)):\n",
    "        sum = sum + x[i]\n",
    "    return sum/len(x)\n",
    "\n",
    "def variance(x):\n",
    "    mu = mean(x)\n",
    "    var=0\n",
    "    for i in range(len(x)):\n",
    "        var = var + (((x[i] - mu)**2)/(len(x)-1))\n",
    "    return var\n",
    "mean_pos = mean(X_train_pos)\n",
    "mean_neg = mean(X_train_neg)\n",
    "var_pos = variance(X_train_pos)\n",
    "var_neg = variance(X_train_neg)"
   ]
  },
  {
   "cell_type": "code",
   "execution_count": 96,
   "metadata": {},
   "outputs": [],
   "source": [
    "#prior probability\n",
    "ones = 0\n",
    "for i in range(len(Y_train)):\n",
    "    if Y_train[i] == 1:\n",
    "        ones = ones + 1\n",
    "ahat = ones/len(Y_train)"
   ]
  },
  {
   "cell_type": "code",
   "execution_count": 97,
   "metadata": {},
   "outputs": [],
   "source": [
    "#from scipy.stats import norm\n",
    "import math\n",
    "def muhat(x):\n",
    "    pdf_pos = (1/(var_pos*(math.sqrt(2*math.pi))))*(math.exp((-1/2)*(((x-mean_pos)/var_pos)**2)))\n",
    "    pdf_neg = (1/(var_neg*(math.sqrt(2*math.pi))))*(math.exp((-1/2)*(((x-mean_neg)/var_neg)**2)))\n",
    "    \n",
    "    return ahat*pdf_pos/(ahat*pdf_pos + ((1-ahat)*pdf_neg))"
   ]
  },
  {
   "cell_type": "code",
   "execution_count": 98,
   "metadata": {},
   "outputs": [
    {
     "name": "stdout",
     "output_type": "stream",
     "text": [
      "Threshold value of x: x* =  [2.99129226]\n"
     ]
    }
   ],
   "source": [
    "muhatarr = {}\n",
    "for i in range(len(X_train)):\n",
    "    muhatarr[i] = muhat(X_train[i])\n",
    "    #muhatarr[i][0] = X_train[i]\n",
    "sort_muhatarr = sorted(muhatarr.items(), key=lambda x: x[1], reverse=False)\n",
    "\n",
    "for i in range(len(muhatarr)):\n",
    "    if sort_muhatarr[i][1][0] >= 0.5:\n",
    "        thres_no = (sort_muhatarr[i][0])\n",
    "        #print(thres_no)\n",
    "        break\n",
    "        \n",
    "print('Threshold value of x: x* = ', X_train[thres_no])"
   ]
  },
  {
   "cell_type": "code",
   "execution_count": 99,
   "metadata": {},
   "outputs": [
    {
     "name": "stdout",
     "output_type": "stream",
     "text": [
      "Confusion matrix:\n",
      " [[80 20]\n",
      " [15 85]]\n"
     ]
    }
   ],
   "source": [
    "from sklearn.metrics import confusion_matrix\n",
    "Y_test_pred=[]\n",
    "for x in X_test:\n",
    "    p1 = muhat(x)\n",
    "    if p1<0.5: \n",
    "        Y_test_pred.append(0)\n",
    "    else : \n",
    "        Y_test_pred.append(1)\n",
    "Y_test_pred = np.array(Y_test_pred)\n",
    "m = confusion_matrix(Y_test,Y_test_pred)\n",
    "print('Confusion matrix:\\n',m)"
   ]
  },
  {
   "cell_type": "code",
   "execution_count": 100,
   "metadata": {},
   "outputs": [
    {
     "name": "stdout",
     "output_type": "stream",
     "text": [
      "Mean for positive data: mean_pos_hat =  [1.97611506]\n",
      "Mean for negative data: mean_neg_hat =  [4.01365675]\n",
      "Variance for positive data: var_pos_hat =  [0.97324824]\n",
      "Variance for negative data: var_neg_hat =  [1.02425662]\n",
      "Prior probability for Y=1: a_hat =  0.5\n",
      "Accuracy : 0.825\n"
     ]
    }
   ],
   "source": [
    "print('Mean for positive data: mean_pos_hat = ', mean_pos)\n",
    "print('Mean for negative data: mean_neg_hat = ', mean_neg)\n",
    "print('Variance for positive data: var_pos_hat = ', var_pos)\n",
    "print('Variance for negative data: var_neg_hat = ', var_neg)\n",
    "print('Prior probability for Y=1: a_hat = ', ahat)\n",
    "print('Accuracy : '+str((m[0][0]+m[1][1])/len(X_test)))"
   ]
  },
  {
   "cell_type": "markdown",
   "metadata": {},
   "source": [
    "### From Discrete distribution of data"
   ]
  },
  {
   "cell_type": "markdown",
   "metadata": {},
   "source": [
    "Unlike the first exercise for learning the Naive Bayes' classifier where we dealt with continuous distribution of data, here you need to work with discrete data, which means finding Probability Mass Distribution(PMF). \n",
    "\n",
    "Age  | Income | Status  | Buy\n",
    "-----|--------|-------- |----\n",
    "<=20 |  low   | students| yes\n",
    "<=20 |  high  | students| yes\n",
    "<=20 | medium | students| no\n",
    "<=20 | medium | married | no\n",
    "<=20 |  high  | married | yes\n",
    "21-30|  low   | married | yes\n",
    "21-30|  low   | married | no \n",
    "21-30| medium | students| no\n",
    "21-30|  high  | students| yes\n",
    " >30 |  high  | married | no\n",
    " >30 |  high  | married | yes\n",
    " >30 | medium | married | yes\n",
    " >30 | medium | married | no\n",
    " >30 | medium | students| no\n",
    " \n",
    "Consider the train dataset above. Take any random datapoint ($X_{i}$) where $X_{i} = (X_{i,1} = Age,X_{i,2} = Income,X_{i,3} = Status)$ and its corresponding label \n",
    "\n",
    "($Y_{i} = Buy$). A \"yes\" in Buy corresponds to label-1 and a \"no\" in Buy corresponds to label-0.\n",
    "\n",
    "<br>**Instructions to follow for learning a Baeysian classifier:** *(Code the formulae for estimating the different parameters yourself)*\n",
    "<br> a)Estimate the prior probability: $P(Y=1)$  ⟶ which could be referred to as: $\\hat{a}$   \n",
    "b)Estimate the likelihood for each feature:  $P(X_{i,j} = x |Y = y_{i})$, where $ i$=datapoint counter, $j \\in \\{1,2,3\\}$ and $y_{i} \\in \\{0,1\\}$ \n",
    "<br>c)Estimate the total likelihood: $P(X_{i} = x |Y = y_{i})$  \n",
    "d)Calculate the posterior probability: $P(Y = 1|X_{i} = x_{test} )$ = $p_{test}$ where $x_{test} = (Age = 21-30, Income= medium, Status = married)$\n",
    "\n",
    "\n",
    "Return back: $\\hat{a}$, total likelihood and $p_{test}$ \n"
   ]
  },
  {
   "cell_type": "code",
   "execution_count": 3,
   "metadata": {},
   "outputs": [],
   "source": [
    "## write your code here.\n",
    "df = pd.read_csv('discretedata.txt',delimiter=\"\\t\")"
   ]
  },
  {
   "cell_type": "code",
   "execution_count": 4,
   "metadata": {},
   "outputs": [],
   "source": [
    "from sklearn import preprocessing\n",
    "le = preprocessing.LabelEncoder()\n",
    "for i in range(len(df.columns)):\n",
    "    le.fit(df[df.columns[i]])\n",
    "    df[df.columns[i]] = le.transform(df[df.columns[i]])"
   ]
  },
  {
   "cell_type": "code",
   "execution_count": 10,
   "metadata": {},
   "outputs": [
    {
     "data": {
      "text/html": [
       "<div>\n",
       "<style scoped>\n",
       "    .dataframe tbody tr th:only-of-type {\n",
       "        vertical-align: middle;\n",
       "    }\n",
       "\n",
       "    .dataframe tbody tr th {\n",
       "        vertical-align: top;\n",
       "    }\n",
       "\n",
       "    .dataframe thead th {\n",
       "        text-align: right;\n",
       "    }\n",
       "</style>\n",
       "<table border=\"1\" class=\"dataframe\">\n",
       "  <thead>\n",
       "    <tr style=\"text-align: right;\">\n",
       "      <th></th>\n",
       "      <th>Age</th>\n",
       "      <th>Income</th>\n",
       "      <th>Status</th>\n",
       "      <th>Buy</th>\n",
       "    </tr>\n",
       "  </thead>\n",
       "  <tbody>\n",
       "    <tr>\n",
       "      <th>0</th>\n",
       "      <td>1</td>\n",
       "      <td>1</td>\n",
       "      <td>1</td>\n",
       "      <td>1</td>\n",
       "    </tr>\n",
       "    <tr>\n",
       "      <th>1</th>\n",
       "      <td>1</td>\n",
       "      <td>0</td>\n",
       "      <td>1</td>\n",
       "      <td>1</td>\n",
       "    </tr>\n",
       "    <tr>\n",
       "      <th>2</th>\n",
       "      <td>1</td>\n",
       "      <td>2</td>\n",
       "      <td>1</td>\n",
       "      <td>0</td>\n",
       "    </tr>\n",
       "    <tr>\n",
       "      <th>3</th>\n",
       "      <td>1</td>\n",
       "      <td>2</td>\n",
       "      <td>0</td>\n",
       "      <td>0</td>\n",
       "    </tr>\n",
       "    <tr>\n",
       "      <th>4</th>\n",
       "      <td>1</td>\n",
       "      <td>0</td>\n",
       "      <td>0</td>\n",
       "      <td>1</td>\n",
       "    </tr>\n",
       "    <tr>\n",
       "      <th>5</th>\n",
       "      <td>0</td>\n",
       "      <td>1</td>\n",
       "      <td>0</td>\n",
       "      <td>1</td>\n",
       "    </tr>\n",
       "    <tr>\n",
       "      <th>6</th>\n",
       "      <td>0</td>\n",
       "      <td>1</td>\n",
       "      <td>0</td>\n",
       "      <td>0</td>\n",
       "    </tr>\n",
       "    <tr>\n",
       "      <th>7</th>\n",
       "      <td>0</td>\n",
       "      <td>2</td>\n",
       "      <td>1</td>\n",
       "      <td>0</td>\n",
       "    </tr>\n",
       "    <tr>\n",
       "      <th>8</th>\n",
       "      <td>0</td>\n",
       "      <td>0</td>\n",
       "      <td>1</td>\n",
       "      <td>1</td>\n",
       "    </tr>\n",
       "    <tr>\n",
       "      <th>9</th>\n",
       "      <td>2</td>\n",
       "      <td>0</td>\n",
       "      <td>0</td>\n",
       "      <td>0</td>\n",
       "    </tr>\n",
       "    <tr>\n",
       "      <th>10</th>\n",
       "      <td>2</td>\n",
       "      <td>0</td>\n",
       "      <td>0</td>\n",
       "      <td>1</td>\n",
       "    </tr>\n",
       "    <tr>\n",
       "      <th>11</th>\n",
       "      <td>2</td>\n",
       "      <td>2</td>\n",
       "      <td>0</td>\n",
       "      <td>1</td>\n",
       "    </tr>\n",
       "    <tr>\n",
       "      <th>12</th>\n",
       "      <td>2</td>\n",
       "      <td>2</td>\n",
       "      <td>0</td>\n",
       "      <td>0</td>\n",
       "    </tr>\n",
       "    <tr>\n",
       "      <th>13</th>\n",
       "      <td>2</td>\n",
       "      <td>2</td>\n",
       "      <td>1</td>\n",
       "      <td>0</td>\n",
       "    </tr>\n",
       "  </tbody>\n",
       "</table>\n",
       "</div>"
      ],
      "text/plain": [
       "    Age  Income  Status  Buy\n",
       "0     1       1       1    1\n",
       "1     1       0       1    1\n",
       "2     1       2       1    0\n",
       "3     1       2       0    0\n",
       "4     1       0       0    1\n",
       "5     0       1       0    1\n",
       "6     0       1       0    0\n",
       "7     0       2       1    0\n",
       "8     0       0       1    1\n",
       "9     2       0       0    0\n",
       "10    2       0       0    1\n",
       "11    2       2       0    1\n",
       "12    2       2       0    0\n",
       "13    2       2       1    0"
      ]
     },
     "execution_count": 10,
     "metadata": {},
     "output_type": "execute_result"
    }
   ],
   "source": [
    "df"
   ]
  },
  {
   "cell_type": "code",
   "execution_count": 6,
   "metadata": {},
   "outputs": [],
   "source": [
    "#prior probability\n",
    "ones = 0\n",
    "for i in range(len(df['Buy'])):\n",
    "    if df['Buy'][i] == 1:\n",
    "        ones = ones + 1\n",
    "ahat = ones/len(df['Buy'])"
   ]
  },
  {
   "cell_type": "code",
   "execution_count": 16,
   "metadata": {},
   "outputs": [
    {
     "name": "stdout",
     "output_type": "stream",
     "text": [
      "P(Xi,1 = <=20 | Y=1) =  0.42857142857142855\n",
      "P(Xi,1 = 21-30 | Y=1) =  0.2857142857142857\n",
      "P(Xi,1 = >30 | Y=1) =  0.2857142857142857\n",
      "P(Xi,1 = <=20 | Y=0) =  0.2857142857142857\n",
      "P(Xi,1 = 21-30 | Y=0) =  0.2857142857142857\n",
      "P(Xi,1 = >30 | Y=0) =  0.42857142857142855\n",
      "\n",
      "P(Xi,2 = low | Y=1) =  0.2857142857142857\n",
      "P(Xi,2 = high | Y=1) =  0.5714285714285714\n",
      "P(Xi,2 = medium | Y=1) =  0.14285714285714285\n",
      "P(Xi,2 = low | Y=0) =  0.14285714285714285\n",
      "P(Xi,2 = high | Y=0) =  0.14285714285714285\n",
      "P(Xi,2 = medium | Y=0) =  0.7142857142857143\n",
      "\n",
      "P(Xi,3 = student | Y=1) =  0.42857142857142855\n",
      "P(Xi,3 = married | Y=1) =  0.5714285714285714\n",
      "P(Xi,3 = student | Y=0) =  0.42857142857142855\n",
      "P(Xi,3 = married | Y=0) =  0.5714285714285714\n"
     ]
    }
   ],
   "source": [
    "#likelihood for each feature\n",
    "\n",
    "#Age\n",
    "#age1 age<=20\n",
    "#age0 age = 21-30\n",
    "#age2 age>30\n",
    "age = [0]*3\n",
    "for i in range(len(df['Age'])):\n",
    "    if df['Age'][i] == 0 and df['Buy'][i] == 1:\n",
    "        age[0] = age[0] + 1\n",
    "    if df['Age'][i] == 1 and df['Buy'][i] == 1:\n",
    "        age[1] = age[1] + 1\n",
    "    if df['Age'][i] == 2 and df['Buy'][i] == 1:\n",
    "        age[2] = age[2] + 1\n",
    "        \n",
    "print('P(Xi,1 = <=20 | Y=1) = ', (age[1]/len(df['Age']))/ahat)\n",
    "print('P(Xi,1 = 21-30 | Y=1) = ', (age[0]/len(df['Age']))/ahat)\n",
    "print('P(Xi,1 = >30 | Y=1) = ', (age[2]/len(df['Age']))/ahat)\n",
    "print('P(Xi,1 = <=20 | Y=0) = ', ((len(df[df['Age'] == 1])-age[1])/len(df['Age']))/(1-ahat))\n",
    "print('P(Xi,1 = 21-30 | Y=0) = ', ((len(df[df['Age'] == 0])-age[0])/len(df['Age']))/(1-ahat))\n",
    "print('P(Xi,1 = >30 | Y=0) = ', ((len(df[df['Age'] == 2])-age[2])/len(df['Age']))/(1-ahat))\n",
    "\n",
    "#Income\n",
    "#income1 low\n",
    "#income0 high\n",
    "#income2 medium\n",
    "income = [0]*3\n",
    "for i in range(len(df['Income'])):\n",
    "    if df['Income'][i] == 0 and df['Buy'][i] == 1:\n",
    "        income[0] = income[0] + 1\n",
    "    if df['Income'][i] == 1 and df['Buy'][i] == 1:\n",
    "        income[1] = income[1] + 1\n",
    "    if df['Income'][i] == 2 and df['Buy'][i] == 1:\n",
    "        income[2] = income[2] + 1\n",
    "        \n",
    "print('\\nP(Xi,2 = low | Y=1) = ', (income[1]/len(df['Income'])/ahat))\n",
    "print('P(Xi,2 = high | Y=1) = ', (income[0]/len(df['Income'])/ahat))\n",
    "print('P(Xi,2 = medium | Y=1) = ', (income[2]/len(df['Income'])/ahat))\n",
    "print('P(Xi,2 = low | Y=0) = ', ((len(df[df['Income'] == 1])-income[1])/len(df['Income']))/(1-ahat))\n",
    "print('P(Xi,2 = high | Y=0) = ', ((len(df[df['Income'] == 0])-income[0])/len(df['Income']))/(1-ahat))\n",
    "print('P(Xi,2 = medium | Y=0) = ', ((len(df[df['Income'] == 2])-income[2])/len(df['Income']))/(1-ahat))\n",
    "        \n",
    "#Status\n",
    "#status1 student\n",
    "#status0 married\n",
    "status = [0]*2\n",
    "for i in range(len(df['Status'])):\n",
    "    if df['Status'][i] == 0 and df['Buy'][i] == 1:\n",
    "        status[0] = status[0] + 1\n",
    "    if df['Status'][i] == 1 and df['Buy'][i] == 1:\n",
    "        status[1] = status[1] + 1\n",
    "print('\\nP(Xi,3 = student | Y=1) = ', (status[1]/len(df['Status'])/ahat))\n",
    "print('P(Xi,3 = married | Y=1) = ', (status[0]/len(df['Status'])/ahat))\n",
    "print('P(Xi,3 = student | Y=0) = ', ((len(df[df['Status'] == 1])-status[1])/len(df['Status']))/(1-ahat))\n",
    "print('P(Xi,3 = married | Y=0) = ', ((len(df[df['Status'] == 0])-status[0])/len(df['Status']))/(1-ahat))"
   ]
  },
  {
   "cell_type": "code",
   "execution_count": 17,
   "metadata": {},
   "outputs": [
    {
     "name": "stdout",
     "output_type": "stream",
     "text": [
      "P(age = 0 , income = 0 , status = 0 | Y=1): 0.023323615160349854\n",
      "P(age = 0 , income = 0 , status = 0 | Y=0): 0.0058309037900874635\n",
      "P(age = 0 , income = 0 , status = 1 | Y=1): 0.01749271137026239\n",
      "P(age = 0 , income = 0 , status = 1 | Y=0): 0.004373177842565598\n",
      "P(age = 0 , income = 1 , status = 0 | Y=1): 0.011661807580174927\n",
      "P(age = 0 , income = 1 , status = 0 | Y=0): 0.0058309037900874635\n",
      "P(age = 0 , income = 1 , status = 1 | Y=1): 0.008746355685131196\n",
      "P(age = 0 , income = 1 , status = 1 | Y=0): 0.004373177842565598\n",
      "P(age = 0 , income = 2 , status = 0 | Y=1): 0.0058309037900874635\n",
      "P(age = 0 , income = 2 , status = 0 | Y=0): 0.029154518950437316\n",
      "P(age = 0 , income = 2 , status = 1 | Y=1): 0.004373177842565598\n",
      "P(age = 0 , income = 2 , status = 1 | Y=0): 0.021865889212827987\n",
      "P(age = 1 , income = 0 , status = 0 | Y=1): 0.03498542274052478\n",
      "P(age = 1 , income = 0 , status = 0 | Y=0): 0.0058309037900874635\n",
      "P(age = 1 , income = 0 , status = 1 | Y=1): 0.026239067055393587\n",
      "P(age = 1 , income = 0 , status = 1 | Y=0): 0.004373177842565598\n",
      "P(age = 1 , income = 1 , status = 0 | Y=1): 0.01749271137026239\n",
      "P(age = 1 , income = 1 , status = 0 | Y=0): 0.0058309037900874635\n",
      "P(age = 1 , income = 1 , status = 1 | Y=1): 0.013119533527696793\n",
      "P(age = 1 , income = 1 , status = 1 | Y=0): 0.004373177842565598\n",
      "P(age = 1 , income = 2 , status = 0 | Y=1): 0.008746355685131196\n",
      "P(age = 1 , income = 2 , status = 0 | Y=0): 0.029154518950437316\n",
      "P(age = 1 , income = 2 , status = 1 | Y=1): 0.006559766763848397\n",
      "P(age = 1 , income = 2 , status = 1 | Y=0): 0.021865889212827987\n",
      "P(age = 2 , income = 0 , status = 0 | Y=1): 0.023323615160349854\n",
      "P(age = 2 , income = 0 , status = 0 | Y=0): 0.008746355685131196\n",
      "P(age = 2 , income = 0 , status = 1 | Y=1): 0.01749271137026239\n",
      "P(age = 2 , income = 0 , status = 1 | Y=0): 0.006559766763848397\n",
      "P(age = 2 , income = 1 , status = 0 | Y=1): 0.011661807580174927\n",
      "P(age = 2 , income = 1 , status = 0 | Y=0): 0.008746355685131196\n",
      "P(age = 2 , income = 1 , status = 1 | Y=1): 0.008746355685131196\n",
      "P(age = 2 , income = 1 , status = 1 | Y=0): 0.006559766763848397\n",
      "P(age = 2 , income = 2 , status = 0 | Y=1): 0.0058309037900874635\n",
      "P(age = 2 , income = 2 , status = 0 | Y=0): 0.043731778425655975\n",
      "P(age = 2 , income = 2 , status = 1 | Y=1): 0.004373177842565598\n",
      "P(age = 2 , income = 2 , status = 1 | Y=0): 0.03279883381924198\n"
     ]
    }
   ],
   "source": [
    "#total likelihood\n",
    "for i in range(len(age)):\n",
    "    for j in range(len(income)):\n",
    "        for k in range(len(status)):\n",
    "            prob_1 = (age[i]*income[j]*status[k])/(((len(df['Age']))**3)*ahat)\n",
    "            prob_0 = ((len(df[df['Age'] == i]) - age[i])*(len(df[df['Income'] == j]) - income[j])*(len(df[df['Status'] == k]) - status[k]))/(((len(df['Age']))**3)*(1-ahat))\n",
    "            print('P(age =',i,', income =', j,', status =', k,'| Y=1):', prob_1)\n",
    "            print('P(age =',i,', income =', j,', status =', k,'| Y=0):', prob_0)"
   ]
  },
  {
   "cell_type": "code",
   "execution_count": 9,
   "metadata": {},
   "outputs": [
    {
     "name": "stdout",
     "output_type": "stream",
     "text": [
      "P_test for the given x_test is = 0.16666666666666663\n",
      "Required a_hat= 0.5\n"
     ]
    }
   ],
   "source": [
    "#posterior probability\n",
    "\n",
    "#𝑥𝑡𝑒𝑠𝑡=(𝐴𝑔𝑒=21−30,𝐼𝑛𝑐𝑜𝑚𝑒=𝑚𝑒𝑑𝑖𝑢𝑚,𝑆𝑡𝑎𝑡𝑢𝑠=𝑚𝑎𝑟𝑟𝑖𝑒𝑑)\n",
    "#age = 0, income = 2, status = 0\n",
    "age0=0\n",
    "income2=0\n",
    "status0=0\n",
    "for i in range(len(df['Age'])):\n",
    "    if df['Age'][i] == 0: \n",
    "        age0 = age0 + 1\n",
    "    if df['Income'][i] == 2:\n",
    "        income2 = income2 + 1\n",
    "    if df['Status'][i] == 0:\n",
    "        status0 = status0 + 1\n",
    "        \n",
    "num = ((age[0]/len(df['Age']))/ahat)*((income[2]/len(df['Income']))/ahat)*((status[0]/len(df['Status']))/ahat)*ahat\n",
    "den = (age0*income2*status0)/((len(df['Age']))**3)\n",
    "\n",
    "p_test = num/den\n",
    "print('P_test for the given x_test is =', p_test)\n",
    "print('Required a_hat=', ahat)"
   ]
  }
 ],
 "metadata": {
  "kernelspec": {
   "display_name": "Python 3",
   "language": "python",
   "name": "python3"
  },
  "language_info": {
   "codemirror_mode": {
    "name": "ipython",
    "version": 3
   },
   "file_extension": ".py",
   "mimetype": "text/x-python",
   "name": "python",
   "nbconvert_exporter": "python",
   "pygments_lexer": "ipython3",
   "version": "3.8.2"
  },
  "toc": {
   "nav_menu": {},
   "number_sections": true,
   "sideBar": true,
   "skip_h1_title": false,
   "title_cell": "Table of Contents",
   "title_sidebar": "Contents",
   "toc_cell": false,
   "toc_position": {},
   "toc_section_display": true,
   "toc_window_display": false
  }
 },
 "nbformat": 4,
 "nbformat_minor": 2
}
