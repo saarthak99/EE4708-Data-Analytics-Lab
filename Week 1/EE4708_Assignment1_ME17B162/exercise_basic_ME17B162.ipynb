{
 "cells": [
  {
   "cell_type": "markdown",
   "metadata": {},
   "source": [
    "1) Given the array split the array at the middle (if it is odd length consider next higher integer), add reverse the array.\n",
    "\n",
    "Ex:\n",
    "if input is [12,10,5,6,52,36] \n",
    "output should be [6,52,36,12,10,5]\n",
    "\n",
    "if input is  [12,10,5,6,52,36,34]\n",
    "output should be [6,52,36,34,12,10,5]"
   ]
  },
  {
   "cell_type": "code",
   "execution_count": 12,
   "metadata": {},
   "outputs": [],
   "source": [
    "# Complete this function to get the desired result\n",
    "def reverseatCenter(arr):\n",
    "    n= int(len(arr)/2)\n",
    "    return arr[n:] + arr[0:n]"
   ]
  },
  {
   "cell_type": "code",
   "execution_count": 13,
   "metadata": {},
   "outputs": [
    {
     "data": {
      "text/plain": [
       "[4, 5, 6, 7, 1, 2, 3]"
      ]
     },
     "execution_count": 13,
     "metadata": {},
     "output_type": "execute_result"
    }
   ],
   "source": [
    "# Print wroking examples\n",
    "reverseatCenter([1,2,3,4,5,6,7])"
   ]
  },
  {
   "cell_type": "markdown",
   "metadata": {},
   "source": [
    "2) Given a list of numbers, return a list where all adjacent duplicate elements have been removed.\n",
    "\n",
    "Ex:\n",
    "\n",
    "2, 2, 2, 3, 2 returns 2, 3, 2."
   ]
  },
  {
   "cell_type": "code",
   "execution_count": 70,
   "metadata": {},
   "outputs": [],
   "source": [
    "# Complete the function to get the desired result\n",
    "def remove_adjacent(b):\n",
    "    if b[0]!=b[-1]:\n",
    "        a = [b[i] for i in range(len(b)) if b[i]!=b[i-1]]\n",
    "        return a\n",
    "    else:\n",
    "        a = [b[i-1] for i in range(len(b)) if b[i]!=b[i-1]]\n",
    "        a.append(b[-1])\n",
    "        return a"
   ]
  },
  {
   "cell_type": "code",
   "execution_count": 73,
   "metadata": {},
   "outputs": [
    {
     "data": {
      "text/plain": [
       "[2, 3, 2, 4, 2]"
      ]
     },
     "execution_count": 73,
     "metadata": {},
     "output_type": "execute_result"
    }
   ],
   "source": [
    "# Print working examples\n",
    "remove_adjacent([2, 2, 2, 3, 2, 2, 4, 2])"
   ]
  },
  {
   "cell_type": "markdown",
   "metadata": {},
   "source": [
    "3) given matrix of 7x7 full of ones, create a square with given side length (center same as original square(7x7)) replace ones with zeors at the edges for example,\n",
    "\n"
   ]
  },
  {
   "cell_type": "markdown",
   "metadata": {},
   "source": [
    "$$\n",
    "\\begin{align}\n",
    "A = \\begin{bmatrix}\n",
    "1 & 1 & 1 & 1 & 1 & 1 & 1\\\\\n",
    "1 & 1 & 1 & 1 & 1 & 1 & 1\\\\\n",
    "1 & 1 & 1 & 1 & 1 & 1 & 1\\\\\n",
    "1 & 1 & 1 & 1 & 1 & 1 & 1\\\\\n",
    "1 & 1 & 1 & 1 & 1 & 1 & 1\\\\\n",
    "1 & 1 & 1 & 1 & 1 & 1 & 1\\\\\n",
    "1 & 1 & 1 & 1 & 1 & 1 & 1\\\\\n",
    "\\end{bmatrix}\n",
    "\\end{align}\n",
    "$$\n",
    "After modification\n",
    "$$\n",
    "\\begin{align}\n",
    "A = \\begin{bmatrix}\n",
    "1 & 1 & 1 & 1 & 1 & 1 & 1\\\\\n",
    "1 & 1 & 1 & 1 & 1 & 1 & 1\\\\\n",
    "1 & 1 & 0 & 0 & 0 & 1 & 1\\\\\n",
    "1 & 1 & 0 & 1 & 0 & 1 & 1\\\\\n",
    "1 & 1 & 0 & 0 & 0 & 1 & 1\\\\\n",
    "1 & 1 & 1 & 1 & 1 & 1 & 1\\\\\n",
    "1 & 1 & 1 & 1 & 1 & 1 & 1\\\\\n",
    "\\end{bmatrix}\n",
    "\\end{align}\n",
    "$$"
   ]
  },
  {
   "cell_type": "code",
   "execution_count": 46,
   "metadata": {},
   "outputs": [],
   "source": [
    "import numpy as np\n",
    "# write programm to get the desired result\n",
    "def box(n):\n",
    "    a = np.ones((n,n), dtype = np.int)\n",
    "    if n%2==1:\n",
    "        off = int(n/2)\n",
    "        a[off][off-1] = 0\n",
    "        a[off][off+1] = 0\n",
    "        a[off-1][off] = 0\n",
    "        a[off+1][off] = 0\n",
    "        a[off+1][off+1] = 0\n",
    "        a[off+1][off-1] = 0\n",
    "        a[off-1][off-1] = 0\n",
    "        a[off-1][off+1] = 0\n",
    "    else:\n",
    "        off = int(n/2)\n",
    "        a[off][off-2] = 0\n",
    "        a[off][off+1] = 0\n",
    "        a[off-2][off] = 0\n",
    "        a[off+1][off] = 0\n",
    "        a[off+1][off+1] = 0\n",
    "        a[off+1][off-2] = 0\n",
    "        a[off-2][off-2] = 0\n",
    "        a[off-2][off+1] = 0\n",
    "        a[off-2][off-1] = 0\n",
    "        a[off-1][off-2] = 0\n",
    "        a[off+1][off-1] = 0\n",
    "        a[off-1][off+1] = 0\n",
    "    return a"
   ]
  },
  {
   "cell_type": "code",
   "execution_count": 78,
   "metadata": {},
   "outputs": [
    {
     "data": {
      "text/plain": [
       "(array([[1, 1, 1, 1, 1, 1, 1],\n",
       "        [1, 1, 1, 1, 1, 1, 1],\n",
       "        [1, 1, 0, 0, 0, 1, 1],\n",
       "        [1, 1, 0, 1, 0, 1, 1],\n",
       "        [1, 1, 0, 0, 0, 1, 1],\n",
       "        [1, 1, 1, 1, 1, 1, 1],\n",
       "        [1, 1, 1, 1, 1, 1, 1]]),\n",
       " array([[1, 1, 1, 1, 1, 1, 1, 1, 1],\n",
       "        [1, 1, 1, 1, 1, 1, 1, 1, 1],\n",
       "        [1, 1, 1, 1, 1, 1, 1, 1, 1],\n",
       "        [1, 1, 1, 0, 0, 0, 1, 1, 1],\n",
       "        [1, 1, 1, 0, 1, 0, 1, 1, 1],\n",
       "        [1, 1, 1, 0, 0, 0, 1, 1, 1],\n",
       "        [1, 1, 1, 1, 1, 1, 1, 1, 1],\n",
       "        [1, 1, 1, 1, 1, 1, 1, 1, 1],\n",
       "        [1, 1, 1, 1, 1, 1, 1, 1, 1]]),\n",
       " array([[1, 1, 1, 1, 1, 1, 1, 1, 1, 1],\n",
       "        [1, 1, 1, 1, 1, 1, 1, 1, 1, 1],\n",
       "        [1, 1, 1, 1, 1, 1, 1, 1, 1, 1],\n",
       "        [1, 1, 1, 0, 0, 0, 0, 1, 1, 1],\n",
       "        [1, 1, 1, 0, 1, 1, 0, 1, 1, 1],\n",
       "        [1, 1, 1, 0, 1, 1, 0, 1, 1, 1],\n",
       "        [1, 1, 1, 0, 0, 0, 0, 1, 1, 1],\n",
       "        [1, 1, 1, 1, 1, 1, 1, 1, 1, 1],\n",
       "        [1, 1, 1, 1, 1, 1, 1, 1, 1, 1],\n",
       "        [1, 1, 1, 1, 1, 1, 1, 1, 1, 1]]))"
      ]
     },
     "execution_count": 78,
     "metadata": {},
     "output_type": "execute_result"
    }
   ],
   "source": [
    "#Print working examples\n",
    "box(7), box(9), box(10)"
   ]
  },
  {
   "cell_type": "markdown",
   "metadata": {},
   "source": [
    "4) Paragraph present in data.txt is encoded such that each alphabet in word is incremented to next ascii value. Decode the paragraph present in the data_encoded.txt (Hint: decrease the ascii value of each character in the word)\n"
   ]
  },
  {
   "cell_type": "code",
   "execution_count": 63,
   "metadata": {},
   "outputs": [],
   "source": [
    "def sentence_decode(str):\n",
    "    # write the code here\n",
    "    dec_words = list(str)\n",
    "    for i in range(len(dec_words)):\n",
    "        if dec_words[i] != ' ': \n",
    "            dec_words[i] = chr(ord(dec_words[i])-1)\n",
    "    string = \"\".join(dec_words)\n",
    "    return string"
   ]
  },
  {
   "cell_type": "code",
   "execution_count": 64,
   "metadata": {
    "tags": []
   },
   "outputs": [
    {
     "name": "stdout",
     "output_type": "stream",
     "text": [
      "ebub bobmztjt jt b qspdftt pg jotqfdujoh- dmfbotjoh- usbotgpsnjoh boe npefmjoh ebub xjui uif hpbm pg ejtdpwfsjoh vtfgvm jogpsnbujpo- jogpsnjoh dpodmvtjpot boe tvqqpsujoh efdjtjpo.nbljoh/ ebub bobmztjt ibt nvmujqmf gbdfut boe bqqspbdift- fodpnqbttjoh ejwfstf ufdiojrvft voefs b wbsjfuz pg obnft- boe jt vtfe jo ejggfsfou cvtjoftt- tdjfodf- boe tpdjbm tdjfodf epnbjot/ jo upebz(t cvtjoftt xpsme- ebub bobmztjt qmbzt b spmf jo nbljoh efdjtjpot npsf tdjfoujgjd boe ifmqjoh cvtjofttft pqfsbuf npsf fggfdujwfmz/\n",
      " \n",
      "data analysis is a process of inspecting, cleansing, transforming and modeling data with the goal of discovering useful information, informing conclusions and supporting decision-making. data analysis has multiple facets and approaches, encompassing diverse techniques under a variety of names, and is used in different business, science, and social science domains. in today's business world, data analysis plays a role in making decisions more scientific and helping businesses operate more effectively.\n"
     ]
    }
   ],
   "source": [
    "with open (\"data_encoded.txt\", \"r\") as myfile:\n",
    "    data=myfile.read()\n",
    "    print(data)\n",
    "    print(\" \")\n",
    "    print(sentence_decode(data))"
   ]
  },
  {
   "cell_type": "code",
   "execution_count": 14,
   "metadata": {},
   "outputs": [],
   "source": [
    "# Has to print the decoded paragraph."
   ]
  }
 ],
 "metadata": {
  "kernelspec": {
   "display_name": "Python 3",
   "language": "python",
   "name": "python3"
  },
  "language_info": {
   "codemirror_mode": {
    "name": "ipython",
    "version": 3
   },
   "file_extension": ".py",
   "mimetype": "text/x-python",
   "name": "python",
   "nbconvert_exporter": "python",
   "pygments_lexer": "ipython3",
   "version": "3.8.2"
  }
 },
 "nbformat": 4,
 "nbformat_minor": 2
}
