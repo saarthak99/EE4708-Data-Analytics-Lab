{
 "cells": [
  {
   "cell_type": "markdown",
   "metadata": {},
   "source": [
    "# Saarthak Marathe | ME17B162"
   ]
  },
  {
   "cell_type": "code",
   "execution_count": 1,
   "metadata": {},
   "outputs": [],
   "source": [
    "# Import required packages\n",
    "import numpy as np               # for mathematical operations, for arrays\n",
    "import pandas as pd              # Used for different data manipulation tasks\n",
    "import matplotlib.pyplot as plt  # Used for Plotting \n",
    "import random                    # For random number generator\n",
    "import warnings\n",
    "warnings.filterwarnings('ignore')# To avoid warnings note while running the notebook"
   ]
  },
  {
   "cell_type": "markdown",
   "metadata": {},
   "source": [
    "# Section 1 : Implementing Gradient Descent\n",
    "\n",
    "Gradient Descent is an first order optimization algorithm to find the local minimum differentiable function (usually a loss function or an objective function). We start with a random point on the function and move in the negative direction of the gradient of the function to reach the find minimum.\n",
    "\n",
    "Let $F(x)$ be a differentiable function parameterised by $x$ and $x^*$ be the parameter value which minimises $F(x)$. The initial value is $x_0=a_0$. To determine $x^*$ using gradient descent, at each of the $i^{th}$ the parameter updation rule is:\n",
    "\n",
    "\\begin{align*}\n",
    "x_i = x_{i-1} - \\eta \\nabla F(a_{i-1}), \\hspace{1cm} i\\geq 1\n",
    "\\end{align*}  \n",
    "where $x_i$ is updated value of the parameter in the $i^{th}$ iteration. \n",
    "\n",
    "\\begin{align*}\n",
    "\\eta \\nabla F(a_{i-1}) = \\eta \\frac{dF}{dx}\\bigr \\rvert_{x=a_{i-1}}\n",
    "\\end{align*} \n",
    "\n",
    "**Stopping Criteria**: Following are three ways which are used as stopping criteria in gradient descent algorithm:\n",
    "1. Limiting number of iterations\n",
    "2. Threshold for change in the parameter (i.e difference between the updated parameter and parameter in the previous iteration) --> Change in parameter > Threshold\n",
    "3. Threshold for change in gradient step\n",
    "                  \n",
    "**Question** : Find $x^*$ which minimises $F(x) = (x+5)^2$ using gradient descent \n",
    "\n",
    "**Note : Few variables are set to a given value, read the instructions in the pseudo code**\n",
    "\n",
    "**Pseudo Code**:\n",
    "1. Initialise the parameter ('x') with some random number,set learning rate = 0.01(section 4 has details on \"how to select appropriate learning rate for a given problem\"), set threshold = 0.000001,\n",
    "2. Define a function for calculating differential of F (Hint : Use lambda method for single line of code)\n",
    "3. Compute the updated value of the parameter using the formula: $x_i = x_i-1 - \\eta \\nabla F(a_{i-1})$ \n",
    "4. Iterate over step 3 until the stopping criteria is satisfied (You have to choose stopping criteria appropriately)"
   ]
  },
  {
   "cell_type": "markdown",
   "metadata": {},
   "source": [
    "## 1.1 Implementing Code\n",
    "Implement the above pseudo code and print the optimum value of $x$ and $F(x)$. Also print the number of iterations required to reach that optimum.\n",
    "\n",
    "**Note : Carefully choose your stopping criteria for reaching optimum**"
   ]
  },
  {
   "cell_type": "code",
   "execution_count": 3,
   "metadata": {},
   "outputs": [
    {
     "name": "stdout",
     "output_type": "stream",
     "text": [
      "[-4.9999504] [2.45969105e-09]\n",
      "[-5.] [4.54383881e-28]\n",
      "[-4.99513457] [2.36723949e-05]\n"
     ]
    }
   ],
   "source": [
    "# Write your code here\n",
    "\n",
    "func = lambda x : (x + 5)**2\n",
    "diff = lambda x : 2*x\n",
    "\n",
    "x1  = np.random.rand(1)\n",
    "x2 = x1\n",
    "x3 = x1\n",
    "\n",
    "l = 0.01\n",
    "t = 0.000001\n",
    "n = 100000\n",
    "\n",
    "while (diff(x1+5)*l>t):    \n",
    "    x1 = x1 - diff(x1+5)*l\n",
    "\n",
    "while (n>0):    \n",
    "    x2 = x2 - diff(x2+5)*l\n",
    "    n = n -1\n",
    "\n",
    "while (1):   \n",
    "    x3prev = x3\n",
    "    x3 = x3 - diff(x3+5)*l\n",
    "    if ((func(x3prev) - func(x3))<t):\n",
    "        break\n",
    "\n",
    "print(x1, func(x1))\n",
    "print(x2, func(x2))\n",
    "print(x3, func(x3))"
   ]
  },
  {
   "attachments": {
    "Normal%20Equation.png": {
     "image/png": "[encoded data removed]"
    }
   },
   "cell_type": "markdown",
   "metadata": {},
   "source": [
    "# Section 2 : Linear Regression - Finding the Regression parameters using Normal Equation (Analytical Approach)\n",
    "**Dataset** : dataset1.csv (given)\n",
    "\n",
    "Given a dataset (here dataset1.csv), find the coefficients (parameters) using the Normal Equation and predict the outputs for the same dataset (dataset1.csv). Given input features in matrix $X$ and observed output or target vector $y$, the regression parameters are given by the equation:\n",
    "![Normal%20Equation.png](attachment:Normal%20Equation.png)\n",
    "\n",
    "\n",
    "**Pseudo Code:**\n",
    "1. Append ones to X, let say that as \"X_appended\" (This is to be done when there is intercept, if you know before hand that intercept is zero, then this step can be ignored)\n",
    "2. Find the pseudo Inverse of the X_appended\n",
    "3. Find the dot product of transpose of X_appended and target vector (y),\n",
    "4. Find \"theta\" (parameters) using \"Normal Equation\" given above (i.e Matrix multiplication of outputs of Step 2 and Step 3)\n",
    "5. Predict ouputs for X_new by appending it with ones and then using the formula $y=X_{new}\\theta$\n",
    "\n",
    "**Note : When you perform matrix multiplications or dot products on vectors or matrices, always keep track of the matrix or vectors shapes. This helps you in avoiding implementation errors.**\n",
    "\n",
    "<div class=\"alert alert-block alert-warning\">\n",
    "**Implementation Note:** Step 1 is crucial. We store each example as a row in the the $X$ matrix in Python `numpy`. To take into account the intercept term ($\\theta_0$), we add an additional first column to $X$ and set it to all ones. This allows us to treat $\\theta_0$ as simply another 'feature'.\n",
    "</div>"
   ]
  },
  {
   "cell_type": "code",
   "execution_count": 4,
   "metadata": {},
   "outputs": [],
   "source": [
    "# Import X, y from \"dataset1.csv\"\n",
    "# X and y are numpy array, Hint : store the data in the pandas dataframe and then convert it to numpy array\n",
    "\n",
    "data = pd.read_csv(\"dataset1.csv\")\n",
    "X = pd.DataFrame(data[\"X\"])\n",
    "y = data[\"y\"]\n",
    "\n",
    "X['Bias'] = 1\n",
    "X_appended = X\n",
    "X_appended = X_appended.to_numpy()\n",
    "y = y.to_numpy()"
   ]
  },
  {
   "cell_type": "code",
   "execution_count": 9,
   "metadata": {},
   "outputs": [],
   "source": [
    "theta_pred = np.linalg.inv(np.transpose(X_appended)@X_appended)@np.transpose(X_appended)@y"
   ]
  },
  {
   "cell_type": "markdown",
   "metadata": {},
   "source": [
    "### 2.1 Function to predict the outputs\n",
    "Implement the predict function below. Predict the outputs for the given data (dataset1.csv), plot the predicted outputs Vs input features and scatter plot for dataset1.csv (X,y)"
   ]
  },
  {
   "cell_type": "code",
   "execution_count": 10,
   "metadata": {},
   "outputs": [
    {
     "data": {
      "text/plain": [
       "<matplotlib.collections.PathCollection at 0x1e24cc63ac0>"
      ]
     },
     "execution_count": 10,
     "metadata": {},
     "output_type": "execute_result"
    },
    {
     "data": {
      "image/png": "[encoded data removed]",
      "text/plain": [
       "<Figure size 432x288 with 1 Axes>"
      ]
     },
     "metadata": {
      "needs_background": "light"
     },
     "output_type": "display_data"
    }
   ],
   "source": [
    "def predict(X, theta):\n",
    "    \"\"\"\n",
    "    Predictions of X for a given theta.\n",
    "    \n",
    "    Parameters\n",
    "    ----------\n",
    "    X : array with size of (m x n)\n",
    "    \n",
    "    theta : array with size of (n+1, 1).\n",
    "    \n",
    "    Returns\n",
    "    -------\n",
    "    predictions : array of size (m x 1)\n",
    "    \n",
    "    \"\"\"\n",
    "    return X@theta\n",
    "\n",
    "y_pred = predict(X_appended, theta_pred)\n",
    "y_pred = predict(X_appended, theta_pred)\n",
    "plt.plot(X_appended[:,0], y_pred, color='g')\n",
    "plt.scatter(X_appended[:,0], y)"
   ]
  },
  {
   "cell_type": "code",
   "execution_count": 11,
   "metadata": {},
   "outputs": [
    {
     "data": {
      "text/plain": [
       "(array([ 20.,  22.,  29.,  33.,  40.,  40.,  47.,  53.,  55.,  63.,  69.,\n",
       "         68.,  74.,  80.,  86.,  94.,  95., 101., 107., 107., 115., 123.,\n",
       "        128., 129., 131., 143., 147., 147., 157., 163.]),\n",
       " array([ 17.78924731,  22.6911383 ,  27.59302929,  32.49492028,\n",
       "         37.39681127,  42.29870226,  47.20059325,  52.10248424,\n",
       "         57.00437523,  61.90626622,  66.80815721,  71.7100482 ,\n",
       "         76.61193919,  81.51383018,  86.41572117,  91.31761216,\n",
       "         96.21950315, 101.12139414, 106.02328513, 110.92517612,\n",
       "        115.82706711, 120.7289581 , 125.63084909, 130.53274008,\n",
       "        135.43463107, 140.33652206, 145.23841305, 150.14030404,\n",
       "        155.04219503, 159.94408602]))"
      ]
     },
     "execution_count": 11,
     "metadata": {},
     "output_type": "execute_result"
    }
   ],
   "source": [
    "y, y_pred"
   ]
  },
  {
   "cell_type": "markdown",
   "metadata": {},
   "source": [
    "# Section 3 : Linear Regression - Find the Regression parameters using Gradient Descent\n",
    "This section is about applying gradient descent algorithm to find theta at which a cost function (Mean Squared Error) is minimum. This can be done using the gradient descent algorithm discussed in Section 1, where $x$ is replaced by the regression parameters. \n",
    "\n",
    "Refer to pseudo code in Section 1 for gradient descent algorithm. In simple terms, we initialise the regression parameters with some random number and we compute the gradient step to update the regression parameters."
   ]
  },
  {
   "cell_type": "markdown",
   "metadata": {},
   "source": [
    "### 3.1. Import and visualise the dataset"
   ]
  },
  {
   "cell_type": "code",
   "execution_count": 12,
   "metadata": {},
   "outputs": [
    {
     "data": {
      "text/plain": [
       "<matplotlib.collections.PathCollection at 0x1e24a92b1c0>"
      ]
     },
     "execution_count": 12,
     "metadata": {},
     "output_type": "execute_result"
    },
    {
     "data": {
      "image/png": "[encoded data removed]",
      "text/plain": [
       "<Figure size 432x288 with 1 Axes>"
      ]
     },
     "metadata": {
      "needs_background": "light"
     },
     "output_type": "display_data"
    }
   ],
   "source": [
    "# Import the data from dataset1.csv - Same as Section 2\n",
    "# Import X and y as numpy array, Hint : store the data in the pandas dataframe and then convert it to numpy array\n",
    "\n",
    "data1 = pd.read_csv(\"dataset1.csv\")\n",
    "X = pd.DataFrame(data[\"X\"])\n",
    "y = data1[\"y\"]\n",
    "X['Bias'] = 1\n",
    "X_appended = X\n",
    "X_appended = X_appended.to_numpy()\n",
    "y = y.to_numpy()\n",
    "\n",
    "# Scatter Plot the data X and y for visualisation\n",
    "plt.scatter(X_appended[:,0], y)"
   ]
  },
  {
   "cell_type": "markdown",
   "metadata": {},
   "source": [
    "### 3.2. Compute Cost Function - Mean Squared Error (MSE) \n",
    "The cost function used is Mean Squared Error (MSE) represented as $J(\\theta)$ and is given by:\n",
    "\n",
    "$$ J(\\theta) = \\frac{1}{2m} \\sum_{i=1}^m \\left( h_{\\theta}(x^{(i)}) - y^{(i)}\\right)^2$$\n",
    "\n",
    "where the hypothesis $h_\\theta(x)$ is a linear model given by: \n",
    "$$ h_\\theta(x) = \\theta^Tx = \\theta_0 + \\theta_1 x_1$$\n",
    "\n",
    "As you perform gradient descent to learn minimize the cost function $J(\\theta)$, it is helpful to monitor the convergence by computing the cost. This way you can know whether you choose high learning rate or low learning rate. Suppose if your learning rate is too high, you can see your cost will go up and down, but will not converge. If you choose good learning rate, then you can see your cost going down smoothly and converges.\n",
    "\n",
    "In this you will implement a function to calculate $J(\\theta)$ so you can check the convergence of your gradient descent implementation. "
   ]
  },
  {
   "cell_type": "code",
   "execution_count": 13,
   "metadata": {},
   "outputs": [],
   "source": [
    "def computeCost(X, y, theta):\n",
    "    \"\"\"\n",
    "    Compute cost for linear regression. Computes the cost of using theta as the\n",
    "    parameter for linear regression to fit the data points in X and y.\n",
    "    \n",
    "    Parameters\n",
    "    ----------\n",
    "    X : array with the shape of (m x n+1)\n",
    "        where m is the number of examples,n is the number of features\n",
    "        n+1 == n features + 1 for bias term(intercept as a feature)\n",
    "    \n",
    "    y : array with the shape of (m,1)\n",
    "    \n",
    "    theta : array with the shape of (n+1,1)\n",
    "    \n",
    "    Returns\n",
    "    -------\n",
    "    J : float -> The value of the regression cost function.\n",
    "    \n",
    "    \"\"\"\n",
    "    # Write your code here\n",
    "    J = (0.5*(1/len(y)))*np.sum(np.square(X@theta - y.reshape(len(y),1)))\n",
    "    return J"
   ]
  },
  {
   "cell_type": "markdown",
   "metadata": {},
   "source": [
    "## 3.3. Implementation of Gradient Descent \n",
    "\n",
    "Recall that the parameters of your model are the $\\theta_j$ values. These are\n",
    "the values you will adjust to minimize cost $J(\\theta)$. One way to do this is to\n",
    "use the batch gradient descent algorithm. In batch gradient descent, each\n",
    "iteration performs the update\n",
    "\n",
    "$$ \\theta_j = \\theta_j - \\alpha \\frac{1}{m} \\sum_{i=1}^m \\left( h_\\theta(x^{(i)}) - y^{(i)}\\right)x_j^{(i)} \\qquad \\text{simultaneously update } \\theta_j \\text{ for all } j$$\n",
    "\n",
    "With each step of gradient descent, your parameters $\\theta_j$ come closer to the optimal values that will achieve the lowest cost J($\\theta$).\n",
    "\n",
    "\n",
    "**Important implementation notes**\n",
    "\n",
    "The function `gradientDescent` calls `computeCost` on every iteration and saves the cost to a python list. If you have implemented gradient descent and `computeCost` correctly, your value of $J(\\theta)$ should never increase, and should converge to a steady value by the end of the algorithm."
   ]
  },
  {
   "cell_type": "code",
   "execution_count": 14,
   "metadata": {},
   "outputs": [],
   "source": [
    "def gradientDescent(X_appended, y, theta, alpha, precision = 0.001):\n",
    "    \"\"\"\n",
    "    Performs gradient descent to learn `theta`. Updates theta by taking `num_iters`\n",
    "    gradient steps with learning rate `alpha`.\n",
    "    \n",
    "    Parameters\n",
    "    ----------\n",
    "    X_appended : array with shape of (m x n+1). Note : n+1 = n features + 1 intercept\n",
    "    \n",
    "    y : array with shape of (m, 1)\n",
    "    \n",
    "    theta : array with shape of (n+1,1)\n",
    "    \n",
    "    alpha : float value, called as \"learning rate\"\n",
    "    \n",
    "    precision : float, (One of the Stopping criteria). This is compared with the change in the cost from previous iter.\n",
    "    \n",
    "    Returns\n",
    "    -------\n",
    "    theta : array wih shape of (n+1,1),The learned linear regression parameters\n",
    "    \n",
    "    J_history : A python list for the values of the cost function after every iteration. This is to check for convergence\n",
    "    \n",
    "    Count : Integer, Number of iterations taken to converge\n",
    "    \n",
    "    Cost : Float, Mean squared error at the end of the iteration\n",
    "    \n",
    "    \n",
    "    Hint: \n",
    "    ------------\n",
    "    1. Peform a single gradient step on the parameter vector theta.\n",
    "    2. Loop over the number of iterations to update step by step.\n",
    "    \"\"\"\n",
    "    # Write your code here\n",
    "    J_history = []\n",
    "    J_history.append(computeCost(X_appended, y, theta))\n",
    "    dtheta = 100000\n",
    "    count = 0\n",
    "    while (1):   \n",
    "        dtheta = (1 / len(y)) * np.dot(X_appended.T, (X_appended@theta - y.reshape(len(y),1)))          \n",
    "        theta = theta - alpha * dtheta       \n",
    "        J_history.append(computeCost(X_appended, y, theta))\n",
    "        count = count + 1\n",
    "        if ((J_history[count-1] - J_history[count])<precision):\n",
    "            break\n",
    "            \n",
    "    cost = J_history[count]\n",
    "    return theta, J_history, cost, count"
   ]
  },
  {
   "cell_type": "markdown",
   "metadata": {},
   "source": [
    "### Run gradientDescent function to train the model here\n",
    "**Note : Use the learning rate(alpha) and precision given below. Initialise theta with zeros is suggested here (but you can initialise with different numbers)**\n",
    "\n",
    "Print the final theta (learnt parameters), number of iterations to converge, value of cost function at the convergence."
   ]
  },
  {
   "cell_type": "code",
   "execution_count": 16,
   "metadata": {},
   "outputs": [
    {
     "name": "stdout",
     "output_type": "stream",
     "text": [
      "No. of iterations required =  18995\n",
      "Minimum value of cost =  2.424134514167511\n",
      "Theta1 and bias are:  [4.90802378] [17.6687466]\n"
     ]
    }
   ],
   "source": [
    "# initialize fitting parameters with zeros\n",
    "theta = np.zeros((2,1))\n",
    "\n",
    "# Play with these setting to see how these parameters play a huge, for a decent converge use below parameters\n",
    "precision = 0.000001\n",
    "alpha = 0.001\n",
    "\n",
    "##################################### Your Code here ########################################\n",
    "theta_pred = gradientDescent(X_appended, y, theta, alpha, precision)[0]\n",
    "J_history = gradientDescent(X_appended, y, theta, alpha, precision)[1]\n",
    "cost = gradientDescent(X_appended, y, theta, alpha, precision)[2]\n",
    "count = gradientDescent(X_appended, y, theta, alpha, precision)[3]\n",
    "\n",
    "print(\"No. of iterations required = \", count)\n",
    "print(\"Minimum value of cost = \", cost)\n",
    "print(\"Theta1 and bias are: \", theta_pred[0], theta_pred[1])"
   ]
  },
  {
   "cell_type": "markdown",
   "metadata": {},
   "source": [
    "## 3.4. Plot the Training Curve\n",
    "**Tip:** Initially the change in the loss(J) are drastic and dominating. So while plotting you may remove the first 10% of the iterations and then plot to see a smooth curve in the training process"
   ]
  },
  {
   "cell_type": "code",
   "execution_count": 18,
   "metadata": {},
   "outputs": [
    {
     "data": {
      "text/plain": [
       "[<matplotlib.lines.Line2D at 0x1e24e1b7340>]"
      ]
     },
     "execution_count": 18,
     "metadata": {},
     "output_type": "execute_result"
    },
    {
     "data": {
      "image/png": "[encoded data removed]",
      "text/plain": [
       "<Figure size 432x288 with 1 Axes>"
      ]
     },
     "metadata": {
      "needs_background": "light"
     },
     "output_type": "display_data"
    }
   ],
   "source": [
    "plt.plot(J_history[int(0.1*count):-1], color='r')"
   ]
  },
  {
   "cell_type": "markdown",
   "metadata": {},
   "source": [
    "## 3.5. Predict Outputs and Plot the results\n",
    "Same as Step 5 in the Section 2. You can use the same function predict(X, theta)"
   ]
  },
  {
   "cell_type": "code",
   "execution_count": 21,
   "metadata": {},
   "outputs": [
    {
     "data": {
      "text/plain": [
       "<matplotlib.collections.PathCollection at 0x1e24e8406d0>"
      ]
     },
     "execution_count": 21,
     "metadata": {},
     "output_type": "execute_result"
    },
    {
     "data": {
      "image/png": "[encoded data removed]",
      "text/plain": [
       "<Figure size 432x288 with 1 Axes>"
      ]
     },
     "metadata": {
      "needs_background": "light"
     },
     "output_type": "display_data"
    }
   ],
   "source": [
    "# plot a line for predictions and scatter plot for the training data X,y\n",
    "y_pred = predict(X_appended, theta_pred)\n",
    "plt.plot(X_appended[:,0], y_pred, color='y')\n",
    "plt.scatter(X_appended[:,0], y)"
   ]
  },
  {
   "cell_type": "markdown",
   "metadata": {},
   "source": [
    "# Section 4 : Selecting appropriate learning rate\n",
    "**Implementation Note:** If your learning rate is too large, $J(\\theta)$ can diverge and ‘blow up’, resulting in values which are too large for computer calculations. In these situations, `numpy` will tend to return\n",
    "NaNs. NaN stands for ‘not a number’ and is often caused by undefined operations that involve −∞ and +∞. So dont worry even if you cost as inf or NaN\n",
    "\n",
    "**Repeat the training as in Section 3 with different values of alpha as listed below. Print the alpha, cost and number of iterations it took for every alpha**"
   ]
  },
  {
   "cell_type": "code",
   "execution_count": 23,
   "metadata": {},
   "outputs": [
    {
     "name": "stdout",
     "output_type": "stream",
     "text": [
      "2.4413078221495095 146029\n",
      "2.4285868952040355 55663\n",
      "2.4260422656254055 35347\n",
      "2.424951548553128 26165\n",
      "2.424134514167511 18995\n",
      "2.4228624540119243 7029\n",
      "2.4226074531485455 4412\n",
      "4863.808530001111 1\n",
      "16660.876472111107 1\n",
      "276113.077049 1\n",
      "850008.8966916668 1\n",
      "1738348.3354001113 1\n",
      "3660439.2792111114 1\n",
      "34554887.00089999 1\n"
     ]
    },
    {
     "data": {
      "text/html": [
       "<div>\n",
       "<style scoped>\n",
       "    .dataframe tbody tr th:only-of-type {\n",
       "        vertical-align: middle;\n",
       "    }\n",
       "\n",
       "    .dataframe tbody tr th {\n",
       "        vertical-align: top;\n",
       "    }\n",
       "\n",
       "    .dataframe thead th {\n",
       "        text-align: right;\n",
       "    }\n",
       "</style>\n",
       "<table border=\"1\" class=\"dataframe\">\n",
       "  <thead>\n",
       "    <tr style=\"text-align: right;\">\n",
       "      <th></th>\n",
       "      <th>No. of Iterations</th>\n",
       "      <th>Cost</th>\n",
       "    </tr>\n",
       "  </thead>\n",
       "  <tbody>\n",
       "    <tr>\n",
       "      <th>0.0001</th>\n",
       "      <td>146029</td>\n",
       "      <td>2.44131</td>\n",
       "    </tr>\n",
       "    <tr>\n",
       "      <th>0.0003</th>\n",
       "      <td>55663</td>\n",
       "      <td>2.42859</td>\n",
       "    </tr>\n",
       "    <tr>\n",
       "      <th>0.0005</th>\n",
       "      <td>35347</td>\n",
       "      <td>2.42604</td>\n",
       "    </tr>\n",
       "    <tr>\n",
       "      <th>0.0007</th>\n",
       "      <td>26165</td>\n",
       "      <td>2.42495</td>\n",
       "    </tr>\n",
       "    <tr>\n",
       "      <th>0.0010</th>\n",
       "      <td>18995</td>\n",
       "      <td>2.42413</td>\n",
       "    </tr>\n",
       "    <tr>\n",
       "      <th>0.0030</th>\n",
       "      <td>7029</td>\n",
       "      <td>2.42286</td>\n",
       "    </tr>\n",
       "    <tr>\n",
       "      <th>0.0050</th>\n",
       "      <td>4412</td>\n",
       "      <td>2.42261</td>\n",
       "    </tr>\n",
       "    <tr>\n",
       "      <th>0.0070</th>\n",
       "      <td>1</td>\n",
       "      <td>4863.81</td>\n",
       "    </tr>\n",
       "    <tr>\n",
       "      <th>0.0100</th>\n",
       "      <td>1</td>\n",
       "      <td>16660.9</td>\n",
       "    </tr>\n",
       "    <tr>\n",
       "      <th>0.0300</th>\n",
       "      <td>1</td>\n",
       "      <td>276113</td>\n",
       "    </tr>\n",
       "    <tr>\n",
       "      <th>0.0500</th>\n",
       "      <td>1</td>\n",
       "      <td>850009</td>\n",
       "    </tr>\n",
       "    <tr>\n",
       "      <th>0.0700</th>\n",
       "      <td>1</td>\n",
       "      <td>1.73835e+06</td>\n",
       "    </tr>\n",
       "    <tr>\n",
       "      <th>0.1000</th>\n",
       "      <td>1</td>\n",
       "      <td>3.66044e+06</td>\n",
       "    </tr>\n",
       "    <tr>\n",
       "      <th>0.3000</th>\n",
       "      <td>1</td>\n",
       "      <td>3.45549e+07</td>\n",
       "    </tr>\n",
       "  </tbody>\n",
       "</table>\n",
       "</div>"
      ],
      "text/plain": [
       "       No. of Iterations         Cost\n",
       "0.0001            146029      2.44131\n",
       "0.0003             55663      2.42859\n",
       "0.0005             35347      2.42604\n",
       "0.0007             26165      2.42495\n",
       "0.0010             18995      2.42413\n",
       "0.0030              7029      2.42286\n",
       "0.0050              4412      2.42261\n",
       "0.0070                 1      4863.81\n",
       "0.0100                 1      16660.9\n",
       "0.0300                 1       276113\n",
       "0.0500                 1       850009\n",
       "0.0700                 1  1.73835e+06\n",
       "0.1000                 1  3.66044e+06\n",
       "0.3000                 1  3.45549e+07"
      ]
     },
     "execution_count": 23,
     "metadata": {},
     "output_type": "execute_result"
    }
   ],
   "source": [
    "theta = np.zeros((2,1))\n",
    "precision = 0.000001\n",
    "\n",
    "# You can change this set of alphas and try out different, but keep your range less than 1\n",
    "alphas = [0.0001, 0.0003, 0.0005, 0.0007, 0.001, 0.003, 0.005, 0.007, 0.01,0.03, 0.05, 0.07, 0.1, 0.3]\n",
    "\n",
    "dfcost = pd.DataFrame(index = alphas, columns = [\"No. of Iterations\", \"Cost\"])\n",
    "# Write your code here\n",
    "for alpha in alphas:\n",
    "    costalpha = gradientDescent(X_appended, y, theta, alpha, precision)[2]\n",
    "    countalpha = gradientDescent(X_appended, y, theta, alpha, precision)[3]\n",
    "    print (costalpha, countalpha)\n",
    "    dfcost.loc[alpha, \"No. of Iterations\"] = countalpha\n",
    "    dfcost.loc[alpha, \"Cost\"] = costalpha\n",
    "       \n",
    "dfcost"
   ]
  },
  {
   "cell_type": "markdown",
   "metadata": {},
   "source": [
    "## Section 5: Questions on Analytical and Gradient Descent approaches\n",
    "\n",
    "1. Are the results from both the analytical and gradient descent approach are same? If not, why?\n",
    "2. When do u prefer analytical approach and gradient descent approach? Hint: Explain interms of size of the dataset\n",
    "3. Can we use different cost function in place of MSE? If we do, where will be changes in the gradient descent step?(Just mention using words, equations are not required)\n",
    "4. How does the initialisation of the parameters $\\theta$ effects the convergence? In this case we initialised $\\theta$ to zeros. What happens if we choose closer to solution and farther to solution?\n",
    "5. Any drawbacks of Gradient descent that you could think of? Hint : Interms of Convergence rate.\n",
    "6. What if number of features increases and how does it effect the gradient descent approach and analytical approach? Note:This might require some time to look for appropriate concepts. But do note that this difference is very important to understand.\n",
    "7. Comment your observations on selecting appropriate learning rate.\n",
    "\n",
    "**Write your answers in the following Markdown**"
   ]
  },
  {
   "cell_type": "markdown",
   "metadata": {},
   "source": [
    "1. Results are not the same but very close. Analytical method directly finds the point providing the lowest loss in the whole domain. Gradient descent on the other hand moves slowly towards a local minima using the gradients of loss function. The gradients become smaller and converge as an asymptote as it moves towards a minimum.\n",
    "\n",
    "2. Analytical approach is prefered under a closed form solution for the equations resulting from putting the derivatives of the loss function to zero. Also, when the dataset is relatively small analytical approach is prefered as the complexity is O(n^3).\n",
    "    Gradient based approaches dont require knowledge of the loss function in its entire domain. A closed form solution for gradient equations is also not needed. Approximations for first order derivatives can be made, which means the loss function need not be strictly differentiable at all points. Improper choice of gradient learning rate can lead to divergence which needs to be taken care of.\n",
    "    \n",
    "3. We can use mean absolute error (MAE) cost instead of MSE. The multiplication with learning rate will change. The gradient of each datapoint would be 1 if absolute difference is positive, and -1 if negative.\n",
    "\n",
    "4. Convergence is afffected by initialization of 𝜃. For a sufficiently small learning rate, initialising closer to the optimum would result in faster convergence as compared to farther initialization. For more complicated functions initialization becomes important to reach convergence as initialisation from some points may get stuck in local minimas.\n",
    "\n",
    "5. Gradient descent will work best when the loss function is smooth and has few distinct minima. Failures of Gradient Descent can be that as we reach closer to the optimum, gradient descent converges the cost slowly. Also, if the learning rate is not suitable then we may never reach an optimum.\n",
    "\n",
    "6. As the number of features increases, calculating analytical solutions becomes more and more computationaly complex. Gradient descent is a better alternative in that case.The gradient descent approach, while not as computationally expensive, often faces overfitting if there are too many features. Each features comes with its own noise, which adds to the variance of the model. \n",
    "\n",
    "7. Learning rate is a trade off between training time and model precision. Small learning rates provide sufficient precision at the cost of sllow convergence (long training time). Large learning rates might learn quick but lie at the risk of oscillating or diverging on the loss function surface. Leaning rate just before the ones where no. of iterations become 1 must be selected because as the number of iterations reaches 1, those are the ones which face 'blowout'. For a learning rate of 0.01, convergence is achieved in less than 100 iterations, and hence is the best option among the ones we tried."
   ]
  },
  {
   "cell_type": "markdown",
   "metadata": {},
   "source": [
    "\n"
   ]
  }
 ],
 "metadata": {
  "kernelspec": {
   "display_name": "Python 3",
   "language": "python",
   "name": "python3"
  },
  "language_info": {
   "codemirror_mode": {
    "name": "ipython",
    "version": 3
   },
   "file_extension": ".py",
   "mimetype": "text/x-python",
   "name": "python",
   "nbconvert_exporter": "python",
   "pygments_lexer": "ipython3",
   "version": "3.8.2"
  }
 },
 "nbformat": 4,
 "nbformat_minor": 2
}
