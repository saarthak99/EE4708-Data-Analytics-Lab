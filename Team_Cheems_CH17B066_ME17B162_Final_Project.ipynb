{
 "cells": [
  {
   "cell_type": "markdown",
   "metadata": {},
   "source": [
    "#### EE4708 - Data Analytics Lab - July-Nov 2020\n",
    "##### Final Project : Team Cheems - Saarthak Marathe (ME17B162), Raj Jain (CH17B066)\n",
    "\n",
    "\n",
    "\n",
    "#### Model can be downloaded from: https://drive.google.com/file/d/1H70uKE6mH0P-jibAWU1be_EftBEGtJhW/view?usp=sharing\n",
    "Download the model and save it in the same folder as this notebook"
   ]
  },
  {
   "cell_type": "code",
   "execution_count": 25,
   "metadata": {},
   "outputs": [],
   "source": [
    "#Importing relevant libraries\n",
    "import numpy as np #For working with matrices\n",
    "import pandas as pd #For dataframes\n",
    "import matplotlib.pyplot as plt #For plotting\n",
    "import os #For loading files\n",
    "import os.path #For interacting with filepaths\n",
    "\n",
    "from sklearn.model_selection import train_test_split #For splitting the data into training and validation sets\n",
    "import glob #For loading files\n",
    "from tqdm import tqdm #For visualising progress bar\n",
    "import warnings #To ignore warnings\n",
    "from skimage.feature import hog #For adding more features\n",
    "warnings.filterwarnings('ignore')\n",
    "import pickle\n",
    "\n",
    "from sklearn.metrics import confusion_matrix\n",
    "from sklearn.metrics import accuracy_score, f1_score\n",
    "from sklearn.svm import SVC\n"
   ]
  },
  {
   "cell_type": "code",
   "execution_count": 13,
   "metadata": {},
   "outputs": [],
   "source": [
    "#Defining a function to take care of NaN values\n",
    "import copy\n",
    "def remove_nan(df):\n",
    "    '''\n",
    "    This function takes in an 28*28 image as input.\n",
    "    The NaN values are imputated as the weighted average of adjacent pixel values.\n",
    "    The weights are taken inversely proportional to the manhattan distance of the pixels upto max distance of 2.\n",
    "    The weight given for manhattan distance 1 is 3/16, whereas weight given to pixels at manhattan distance of 2 are given a weight of 1/16.\n",
    "    Returned is the image without NaN values.\n",
    "    \n",
    "    '''\n",
    "    df= np.array(df)\n",
    "    df1 = df.copy()    \n",
    "    nan_arr = np.argwhere(np.isnan(df)) #Finding NaNs\n",
    "    df1 = np.pad(df1,(1,1))\n",
    "    ones_arr = np.ones((3,3))\n",
    "    w_arr = [[1,3,1],[3,0,3],[1,3,1]] #weights\n",
    "    df1 = np.array(df1)\n",
    "    for i in range(len(nan_arr)):\n",
    "   \n",
    "        x=nan_arr[i][0]        \n",
    "        y=nan_arr[i][1]\n",
    "\n",
    "        arr = df1[x:x+3,y:y+3]\n",
    "        arr=np.nan_to_num(arr)\n",
    "       \n",
    "        df[x][y] = np.sum(arr*w_arr)/16\n",
    "   \n",
    "    return df"
   ]
  },
  {
   "cell_type": "code",
   "execution_count": 31,
   "metadata": {},
   "outputs": [],
   "source": [
    "def preprocess(df):    \n",
    "    '''\n",
    "    Brightens and blurs the image a bit, to smoothen the letters\n",
    "    '''\n",
    "    g1_arr = [[16,26,16],[26,41,26],[16,26,16]] #Gaussian blur filter\n",
    "    for i in range(1,27):\n",
    "        for j in range(1,27):\n",
    "            x=i       \n",
    "            y=j      \n",
    "            arr = df[x-1:x+2,y-1:y+2] #Defining a 3x3 closed neighbourhood\n",
    "            df[x][y] = np.sum(arr*g1_arr)/(209) #Applying gaussian blur\n",
    "       \n",
    "            #Brightening the image\n",
    "            if df[x][y]>=170 and df[x][y]<220:\n",
    "                df[x][y]=df[x][y]+35\n",
    "            if df[x][y]>=220 and df[x][y]<230:\n",
    "                df[x][y]=df[x][y]+25\n",
    "            if df[x][y]>=230 and df[x][y]<240:\n",
    "                df[x][y]=df[x][y]+15\n",
    "            if df[x][y]>=240 and df[x][y]<245:\n",
    "                df[x][y]=df[x][y]+10   \n",
    "    df = df/255\n",
    "    return df"
   ]
  },
  {
   "cell_type": "code",
   "execution_count": 14,
   "metadata": {},
   "outputs": [
    {
     "name": "stderr",
     "output_type": "stream",
     "text": [
      "100%|██████████████████████████████████████████████████████████████████████████████████| 10/10 [04:12<00:00, 25.25s/it]\n"
     ]
    }
   ],
   "source": [
    "#Loading the data and removing NaNs\n",
    "np_array_list = []\n",
    "labels = []\n",
    "for i in tqdm(range(10)):\n",
    "    path = \"Training Dataset/character_\"+str(i)\n",
    "    allFiles = glob.glob(os.path.join(path,\"*.csv\"))\n",
    "    for file_ in allFiles:\n",
    "        df = pd.read_csv(file_,index_col=None, header=None)\n",
    "        df = remove_nan(df)\n",
    "        A = np.asarray(df).reshape(-1)\n",
    "        labels.append(i)\n",
    "        np_array_list.append(A)\n",
    "\n",
    "comb_np_array = np.vstack(np_array_list)\n",
    "big_frame = pd.DataFrame(comb_np_array)"
   ]
  },
  {
   "cell_type": "code",
   "execution_count": 15,
   "metadata": {},
   "outputs": [
    {
     "data": {
      "image/png": "[encoded data removed]",
      "text/plain": [
       "<Figure size 432x288 with 1 Axes>"
      ]
     },
     "metadata": {
      "needs_background": "light"
     },
     "output_type": "display_data"
    },
    {
     "data": {
      "image/png": "[encoded data removed]",
      "text/plain": [
       "<Figure size 432x288 with 1 Axes>"
      ]
     },
     "metadata": {
      "needs_background": "light"
     },
     "output_type": "display_data"
    }
   ],
   "source": [
    "#Visualising images and pre and post Nan imputation\n",
    "\n",
    "df1 = pd.read_csv(\"Training Dataset/character_2/5.csv\", index_col=None, header=None)\n",
    "\n",
    "plt.subplot(121),plt.imshow(df1)\n",
    "\n",
    "plt.show()\n",
    "\n",
    "df1 = remove_nan(df1)\n",
    "df1 = preprocess(df1)\n",
    "plt.subplot(122),plt.imshow(df1)\n",
    "\n",
    "plt.show()"
   ]
  },
  {
   "cell_type": "code",
   "execution_count": 20,
   "metadata": {},
   "outputs": [],
   "source": [
    "def feature_add(big_frame):\n",
    "    '''\n",
    "    Preprocessing the data and adding engineered features based on HOG (edge detection) and pooling filters \n",
    "    '''\n",
    "    big_frame = np.array(big_frame)\n",
    "    big_frame1 = np.array([np.zeros((1884,))]*len(big_frame))\n",
    "    for i in range(len(big_frame)):\n",
    "        df = (big_frame[i][:])\n",
    "        df = df.reshape(28,28)\n",
    "        df = preprocess(df) #Preprocessing data\n",
    "      \n",
    "        avg_pool=[]\n",
    "        df1 = df.copy()\n",
    "        df1 = np.pad(df1,(1,1))\n",
    "        \n",
    "        for j in range(1,df1.shape[0]-1,3):\n",
    "            for k in range(1,df1.shape[1]-1,3):\n",
    "                arr = df1[j-1:j+2,k-1:k+2]\n",
    "                avg_pool.append(np.sum(arr)/9)\n",
    "                \n",
    "        avg_pool = np.array(avg_pool).reshape(10,10)\n",
    "        df = df.reshape(-1)\n",
    "        df_hog = hog(df1, orientations = 10, pixels_per_cell=(3,3), cells_per_block=(1,1), multichannel=False)\n",
    "        df = np.concatenate((df,df_hog))\n",
    "        df = np.concatenate((df,avg_pool.ravel()))\n",
    "\n",
    "        big_frame1[i] = df\n",
    "    return big_frame1"
   ]
  },
  {
   "cell_type": "code",
   "execution_count": 19,
   "metadata": {},
   "outputs": [],
   "source": [
    "#Adding features\n",
    "big_frame1 = feature_add(big_frame)"
   ]
  },
  {
   "cell_type": "code",
   "execution_count": 475,
   "metadata": {},
   "outputs": [
    {
     "name": "stdout",
     "output_type": "stream",
     "text": [
      "Shape of features matrix: (10000, 1884) \n",
      "Shape of labels: (10000,)\n"
     ]
    }
   ],
   "source": [
    "print('Shape of features matrix:',big_frame1.shape,'\\nShape of labels:',np.array(labels).shape)"
   ]
  },
  {
   "cell_type": "code",
   "execution_count": 476,
   "metadata": {},
   "outputs": [
    {
     "name": "stdout",
     "output_type": "stream",
     "text": [
      "X_train shape: (7500, 1884)  || y_train shape: (7500,)\n",
      "X_val shape: (2500, 1884)  || y_val shape: (2500,)\n"
     ]
    }
   ],
   "source": [
    "X_train,X_val,y_train,y_val = train_test_split(big_frame1,np.array(labels),test_size=0.25,shuffle=True,random_state=42)\n",
    "print('X_train shape:',X_train.shape,' || y_train shape:',y_train.shape)\n",
    "print('X_val shape:',X_val.shape,' || y_val shape:',y_val.shape)"
   ]
  },
  {
   "cell_type": "code",
   "execution_count": 477,
   "metadata": {},
   "outputs": [
    {
     "name": "stdout",
     "output_type": "stream",
     "text": [
      "Confusion Matrix:\n",
      " [[257   0   0   0   0   0   0   0   0   0]\n",
      " [  0 256   0   0   0   0   0   0   0   0]\n",
      " [  0   0 234   0   0   0   0   0   0   0]\n",
      " [  0   0   0 251   0   0   0   0   0   0]\n",
      " [  0   0   0   0 274   0   0   0   0   0]\n",
      " [  0   0   0   0   0 238   0   0   0   0]\n",
      " [  0   0   0   0   0   0 252   0   0   0]\n",
      " [  0   0   0   0   0   0   0 257   0   0]\n",
      " [  0   0   0   0   0   0   0   0 266   0]\n",
      " [  0   0   0   0   0   0   0   0   0 215]]\n",
      "\n",
      "F1 Score: 1.0\n",
      "1.0\n"
     ]
    }
   ],
   "source": [
    "clf = SVC(kernel = 'rbf', C=2500) #SVM with radial basis function\n",
    "clf = clf.fit(big_frame1,np.array(labels)) #Fitting the data, using complete training set\n",
    "y_pred = clf.predict(X_val) #Predicting on the validation set\n",
    "\n",
    "\n",
    "#Print the Confusion Matrix\n",
    "print('Confusion Matrix:\\n',confusion_matrix(y_val,y_pred))\n",
    "\n",
    "#Print the F1 score\n",
    "print('\\nF1 Score:',f1_score(y_val,y_pred,average='macro'))\n",
    "\n",
    "#Print accuracy\n",
    "print(accuracy_score(y_val, y_pred))"
   ]
  },
  {
   "cell_type": "markdown",
   "metadata": {},
   "source": [
    "# Test cases"
   ]
  },
  {
   "cell_type": "code",
   "execution_count": 21,
   "metadata": {},
   "outputs": [],
   "source": [
    "#Loading the test dataset\n",
    "test_data = np.loadtxt('public_test.csv',delimiter=',').T\n",
    "\n",
    "\n",
    "# Fixing test data\n",
    "# The given test dataset has its images reshaped to a one dimensional vector column wise, \n",
    "# but our model takes in values as row-wise reshaped arrays.\n",
    "# Hence, fixing the test dataset to match the feature order of the model.\n",
    "# later we apply the feature add function to it.\n",
    "\n",
    "\n",
    "new_test = test_data.reshape(1000,28,28)\n",
    "for i in range(len(new_test)):\n",
    "    new_test[i] = new_test[i].T\n",
    "new_test = new_test.reshape(1000,-1)\n",
    "new_test1 = feature_add(new_test)"
   ]
  },
  {
   "cell_type": "code",
   "execution_count": 479,
   "metadata": {},
   "outputs": [],
   "source": [
    "#Predicting on the test set\n",
    "y_test_pred = clf.predict(new_test1)"
   ]
  },
  {
   "cell_type": "code",
   "execution_count": 487,
   "metadata": {},
   "outputs": [],
   "source": [
    "#Saving the predicted values\n",
    "sample_sub = pd.read_csv('Sample_Submission.csv')\n",
    "d = {'Id':sample_sub['Id'],'Expected': y_test_pred}\n",
    "dtf = pd.DataFrame(data=d)\n",
    "dtf.to_csv('submission3.csv',index=False)"
   ]
  },
  {
   "cell_type": "markdown",
   "metadata": {},
   "source": [
    "#### Model can be downloaded from: https://drive.google.com/file/d/1H70uKE6mH0P-jibAWU1be_EftBEGtJhW/view?usp=sharing\n",
    "Download the model and save it in the same folder as this notebook"
   ]
  },
  {
   "cell_type": "code",
   "execution_count": 45,
   "metadata": {},
   "outputs": [],
   "source": [
    "#Defining a function to predict private dataset as required\n",
    "\n",
    "def predict_private_dataset(test_path='private_test.csv',model_path='cheems_model.pkl'):\n",
    "    '''\n",
    "    INPUT:  path to private test dataset(string)\n",
    "            \n",
    "            Path to the saved model (string)\n",
    "            \n",
    "    OUTPUT: predicted labels (nsamples x 1)\n",
    "    Please be patient it takes around a minute to predict :)\n",
    "    '''\n",
    "    test_data = np.loadtxt(test_path,delimiter=',').T\n",
    "\n",
    "\n",
    "    new_test = test_data.reshape(1000,28,28)\n",
    "    for i in range(len(new_test)):\n",
    "        new_test[i] = new_test[i].T\n",
    "    new_test = new_test.reshape(1000,-1)\n",
    "    new_test1 = feature_add(new_test)\n",
    "    \n",
    "    #Loading the model\n",
    "    with open(model_path, 'rb') as file:  \n",
    "        Model = pickle.load(file)\n",
    "    predicted_class = Model.predict(new_test1)\n",
    "    \n",
    "    return predicted_class"
   ]
  },
  {
   "cell_type": "code",
   "execution_count": 42,
   "metadata": {},
   "outputs": [],
   "source": [
    "predicted_class = predict_private_dataset()"
   ]
  }
 ],
 "metadata": {
  "kernelspec": {
   "display_name": "Python 3",
   "language": "python",
   "name": "python3"
  },
  "language_info": {
   "codemirror_mode": {
    "name": "ipython",
    "version": 3
   },
   "file_extension": ".py",
   "mimetype": "text/x-python",
   "name": "python",
   "nbconvert_exporter": "python",
   "pygments_lexer": "ipython3",
   "version": "3.8.2"
  }
 },
 "nbformat": 4,
 "nbformat_minor": 4
}
